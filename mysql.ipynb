{
 "cells": [
  {
   "cell_type": "code",
   "execution_count": 1,
   "id": "ee829723-8d01-41c8-8ff4-b0f5a67b0197",
   "metadata": {},
   "outputs": [
    {
     "data": {
      "text/plain": [
       "'\\nA database is a structured collection of data that is organized and stored in a way that allows efficient retrieval, manipulation, and management of the data. It provides a mechanism for storing, managing, and querying large amounts of information.\\nStructure: SQL databases are based on a structured data model known as the relational model. Data is organized into tables with predefined schemas, consisting of rows and columns. Relationships between tables are established using keys.\\nStructure: NoSQL databases use a variety of data models, such as key-value, document, columnar, or graph, rather than the strict relational model. They offer more flexible schemas and allow for dynamic changes in the structure of the data.'"
      ]
     },
     "execution_count": 1,
     "metadata": {},
     "output_type": "execute_result"
    }
   ],
   "source": [
    "#que 1\n",
    "\"\"\"\n",
    "A database is a structured collection of data that is organized and stored in a way that allows efficient retrieval, manipulation, and management of the data. It provides a mechanism for storing, managing, and querying large amounts of information.\n",
    "Structure: SQL databases are based on a structured data model known as the relational model. Data is organized into tables with predefined schemas, consisting of rows and columns. Relationships between tables are established using keys.\n",
    "Structure: NoSQL databases use a variety of data models, such as key-value, document, columnar, or graph, rather than the strict relational model. They offer more flexible schemas and allow for dynamic changes in the structure of the data.\"\"\""
   ]
  },
  {
   "cell_type": "code",
   "execution_count": 2,
   "id": "3e94ffdb-ff6e-4c37-8786-ffe2a75cf113",
   "metadata": {},
   "outputs": [
    {
     "data": {
      "text/plain": [
       "'DDL stands for Data Definition Language, which is a subset of SQL (Structured Query Language) used to define and manage the structure of a database and its objects. DDL statements are responsible for creating, modifying, and deleting database objects such as tables, indexes, views, and constraints.\\nThe CREATE statement is used to create new database objects such as tables, views, indexes, or constraints.\\nThe DROP statement is used to remove or delete existing database objects, such as tables or views.\\nThe ALTER statement is used to modify the structure of existing database objects, such as adding or renaming columns, changing data types, or modifying constraints.\\nThe TRUNCATE statement is used to remove all data from a table, while keeping the table structure intact.'"
      ]
     },
     "execution_count": 2,
     "metadata": {},
     "output_type": "execute_result"
    }
   ],
   "source": [
    "#que2\n",
    "\"\"\"DDL stands for Data Definition Language, which is a subset of SQL (Structured Query Language) used to define and manage the structure of a database and its objects. DDL statements are responsible for creating, modifying, and deleting database objects such as tables, indexes, views, and constraints.\n",
    "The CREATE statement is used to create new database objects such as tables, views, indexes, or constraints.\n",
    "The DROP statement is used to remove or delete existing database objects, such as tables or views.\n",
    "The ALTER statement is used to modify the structure of existing database objects, such as adding or renaming columns, changing data types, or modifying constraints.\n",
    "The TRUNCATE statement is used to remove all data from a table, while keeping the table structure intact.\"\"\""
   ]
  },
  {
   "cell_type": "code",
   "execution_count": 3,
   "id": "0fd51fe2-2229-466d-b255-28d6b15c966c",
   "metadata": {},
   "outputs": [
    {
     "data": {
      "text/plain": [
       "'DML stands for Data Manipulation Language, which is a subset of SQL (Structured Query Language) used to manipulate data within a database. DML statements are responsible for inserting, updating, and deleting data in database tables.\\nThe INSERT statement is used to insert new records or rows into a database table.\\nThe UPDATE statement is used to modify existing records in a database table.\\nThe DELETE statement is used to remove records from a database table.'"
      ]
     },
     "execution_count": 3,
     "metadata": {},
     "output_type": "execute_result"
    }
   ],
   "source": [
    "#que3\n",
    "\"\"\"DML stands for Data Manipulation Language, which is a subset of SQL (Structured Query Language) used to manipulate data within a database. DML statements are responsible for inserting, updating, and deleting data in database tables.\n",
    "The INSERT statement is used to insert new records or rows into a database table.\n",
    "The UPDATE statement is used to modify existing records in a database table.\n",
    "The DELETE statement is used to remove records from a database table.\"\"\""
   ]
  },
  {
   "cell_type": "code",
   "execution_count": 4,
   "id": "c6ff0711-32de-4efb-b614-3ea54bef6214",
   "metadata": {},
   "outputs": [
    {
     "data": {
      "text/plain": [
       "'DQL stands for Data Query Language, which is a subset of SQL (Structured Query Language) used to retrieve and query data from a database. DQL is primarily focused on the SELECT statement, which is used to specify the data to be retrieved and the conditions for filtering the data.\\n'"
      ]
     },
     "execution_count": 4,
     "metadata": {},
     "output_type": "execute_result"
    }
   ],
   "source": [
    "#que 4\n",
    "\"\"\"DQL stands for Data Query Language, which is a subset of SQL (Structured Query Language) used to retrieve and query data from a database. DQL is primarily focused on the SELECT statement, which is used to specify the data to be retrieved and the conditions for filtering the data.\n",
    "\"\"\""
   ]
  },
  {
   "cell_type": "code",
   "execution_count": 5,
   "id": "6cdf2c8f-1969-4064-9870-24dfa2663d1a",
   "metadata": {},
   "outputs": [
    {
     "data": {
      "text/plain": [
       "'\\nPrimary Key:\\nA primary key is a column or a set of columns in a database table that uniquely identifies each record or row in that table. It serves as a unique identifier for the records and ensures data integrity by enforcing uniqueness and providing a means for efficient data retrieval. \\nA foreign key is a column or a set of columns in a database table that establishes a link or relationship between two tables. It represents a reference to the primary key column(s) of another table, creating a logical connection between the two tables.'"
      ]
     },
     "execution_count": 5,
     "metadata": {},
     "output_type": "execute_result"
    }
   ],
   "source": [
    "#que 5\n",
    "\"\"\"\n",
    "Primary Key:\n",
    "A primary key is a column or a set of columns in a database table that uniquely identifies each record or row in that table. It serves as a unique identifier for the records and ensures data integrity by enforcing uniqueness and providing a means for efficient data retrieval. \n",
    "A foreign key is a column or a set of columns in a database table that establishes a link or relationship between two tables. It represents a reference to the primary key column(s) of another table, creating a logical connection between the two tables.\"\"\""
   ]
  },
  {
   "cell_type": "code",
   "execution_count": null,
   "id": "45f7b7e2-18ee-4bc8-b5ac-d2a85e80f5f8",
   "metadata": {},
   "outputs": [],
   "source": [
    "#que 6\n",
    "pip install mysql-connector-python\n",
    "import mysql.connector\n",
    "\n",
    "# Establishing a connection\n",
    "connection = mysql.connector.connect(\n",
    "    host=\"localhost\",\n",
    "    user=\"your_username\",\n",
    "    password=\"your_password\",\n",
    "    database=\"your_database\"\n",
    ")\n",
    "\n",
    "# Creating a cursor object\n",
    "cursor = connection.cursor()\n",
    "\n",
    "# Executing SQL queries\n",
    "query = \"SELECT * FROM employees\"\n",
    "cursor.execute(query)\n",
    "\n",
    "# Fetching the results\n",
    "results = cursor.fetchall()\n",
    "\n",
    "# Printing the results\n",
    "for row in results:\n",
    "    print(row)\n",
    "\n",
    "# Closing the cursor and connection\n",
    "cursor.close()\n",
    "connection.close()\n"
   ]
  },
  {
   "cell_type": "code",
   "execution_count": null,
   "id": "ff3440db-d996-46cd-baac-346d4c9164ff",
   "metadata": {},
   "outputs": [],
   "source": [
    "#que 7\n"
   ]
  }
 ],
 "metadata": {
  "kernelspec": {
   "display_name": "Python 3 (ipykernel)",
   "language": "python",
   "name": "python3"
  },
  "language_info": {
   "codemirror_mode": {
    "name": "ipython",
    "version": 3
   },
   "file_extension": ".py",
   "mimetype": "text/x-python",
   "name": "python",
   "nbconvert_exporter": "python",
   "pygments_lexer": "ipython3",
   "version": "3.10.8"
  }
 },
 "nbformat": 4,
 "nbformat_minor": 5
}
